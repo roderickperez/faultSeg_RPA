version https://git-lfs.github.com/spec/v1
oid sha256:7e2760d5fa56f8111477373a4587c5289768527af16e32db44b5f4f6d13ae9af
size 205572735
