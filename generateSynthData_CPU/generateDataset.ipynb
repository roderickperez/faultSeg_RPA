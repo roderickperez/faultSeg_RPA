version https://git-lfs.github.com/spec/v1
oid sha256:8b9eaedf72eaf1d893e0bd50c03a87ed19a93e6b03aa5bdba2af223e276822ed
size 205641502
