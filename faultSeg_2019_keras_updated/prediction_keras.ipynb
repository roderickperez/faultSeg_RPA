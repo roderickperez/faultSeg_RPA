version https://git-lfs.github.com/spec/v1
oid sha256:f065ba4a68f5cf2d09c91423569b9c4646c326e88acccee9901437d38997a567
size 1291694
