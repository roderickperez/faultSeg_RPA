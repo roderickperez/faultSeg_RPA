version https://git-lfs.github.com/spec/v1
oid sha256:e09adcd53844f9e834ce5a247b877a9eac0c8bfa01f785d8a2633d354683abd0
size 213908
