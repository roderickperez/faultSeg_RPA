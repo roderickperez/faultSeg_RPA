version https://git-lfs.github.com/spec/v1
oid sha256:6acae65196667b67403be5eeee22912ba9414050cdcefb96b0a7cd749aca911a
size 1177335
