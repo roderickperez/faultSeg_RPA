version https://git-lfs.github.com/spec/v1
oid sha256:fa583838adad3b5f460702bf4f0148d9b38f089791ca17435bd969f11efacfbf
size 17339
