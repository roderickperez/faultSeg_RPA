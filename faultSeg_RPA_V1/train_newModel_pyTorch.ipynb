version https://git-lfs.github.com/spec/v1
oid sha256:3c4ab83ca643f310ad7ef315d19de6bfd7a2434640e9009896e7e69588e520bb
size 155956
