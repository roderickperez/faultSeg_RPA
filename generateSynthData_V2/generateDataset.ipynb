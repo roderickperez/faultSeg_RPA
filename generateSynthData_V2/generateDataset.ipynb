version https://git-lfs.github.com/spec/v1
oid sha256:2f2c2d5ddfb18ba295809d0c2f92fe3ad9cfc57a6a585314f3ba8a98211d38ea
size 410529437
