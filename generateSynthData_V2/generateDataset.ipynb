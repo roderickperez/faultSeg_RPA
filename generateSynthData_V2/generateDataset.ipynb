version https://git-lfs.github.com/spec/v1
oid sha256:625a6bd8813d6cde02822c52ae3604793ba3a552cdfd96505fab9dd85f6c99c0
size 205599124
