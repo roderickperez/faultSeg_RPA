version https://git-lfs.github.com/spec/v1
oid sha256:a1a7a3c561aab92b45d6f66dd8ad739390fdf53fd73bb62bbdd8689b86438be1
size 274002275
