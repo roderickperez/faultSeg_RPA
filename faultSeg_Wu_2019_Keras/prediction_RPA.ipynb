{
 "cells": [],
 "metadata": {
  "kernelspec": {
   "display_name": "faultseg",
   "language": "python",
   "name": "python3"
  },
  "language_info": {
   "name": "python",
   "version": "3.10.16"
  }
 },
 "nbformat": 4,
 "nbformat_minor": 5
}
