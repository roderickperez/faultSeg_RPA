{
 "cells": [
  {
   "cell_type": "markdown",
   "id": "a71f81e2",
   "metadata": {},
   "source": [
    "# U-Net Model Training for Fault Segmentation (keras)"
   ]
  },
  {
   "cell_type": "markdown",
   "id": "10946dda",
   "metadata": {},
   "source": [
    "## Step 1: Import Libraries"
   ]
  },
  {
   "cell_type": "markdown",
   "id": "a196097b",
   "metadata": {},
   "source": [
    "\"First, we import all the necessary libraries. This includes standard libraries like `os` and `numpy`, deep learning libraries from `tensorflow.keras`, and the custom modules `DataGenerator` and `unet` from our project."
   ]
  },
  {
   "cell_type": "code",
   "execution_count": 5,
   "id": "f2a366f5",
   "metadata": {},
   "outputs": [],
   "source": [
    "import os\n",
    "import shutil\n",
    "import numpy as np\n",
    "import tensorflow as tf\n",
    "import matplotlib.pyplot as plt\n",
    "from datetime import datetime\n",
    "\n",
    "# TensorFlow Keras imports\n",
    "from tensorflow.keras.callbacks import ModelCheckpoint, TensorBoard\n",
    "from tensorflow.keras.models import Model\n",
    "from tensorflow.keras.layers import Input, Conv3D, MaxPooling3D, UpSampling3D, concatenate\n",
    "from tensorflow.keras.optimizers import Adam\n",
    "from tensorflow.keras import backend as K\n",
    "from tensorflow.keras.utils import Sequence, get_custom_objects\n",
    "\n",
    "from unet3_keras import cross_entropy_balanced\n",
    "get_custom_objects()['cross_entropy_balanced'] = cross_entropy_balanced\n",
    "\n",
    "# Set random seeds for reproducibility, as in the original script\n",
    "np.random.seed(12345)\n",
    "tf.random.set_seed(1234)"
   ]
  },
  {
   "cell_type": "markdown",
   "id": "e24c5261",
   "metadata": {},
   "source": [
    "## Step 1a: Verify GPU Availability\n",
    "This cell checks if TensorFlow can detect a GPU. If a GPU is available, it enables memory growth to prevent TensorFlow from allocating all of the GPU's memory at once."
   ]
  },
  {
   "cell_type": "code",
   "execution_count": 6,
   "id": "612dd6e6",
   "metadata": {},
   "outputs": [
    {
     "name": "stdout",
     "output_type": "stream",
     "text": [
      "1 Physical GPUs, 1 Logical GPUs\n",
      "Warming up GPU...\n",
      "GPU is warmed up and ready.\n"
     ]
    },
    {
     "name": "stderr",
     "output_type": "stream",
     "text": [
      "I0000 00:00:1753759266.662900  159926 gpu_device.cc:2019] Created device /job:localhost/replica:0/task:0/device:GPU:0 with 21746 MB memory:  -> device: 0, name: NVIDIA RTX A5000, pci bus id: 0000:41:00.0, compute capability: 8.6\n"
     ]
    }
   ],
   "source": [
    "gpus = tf.config.list_physical_devices('GPU')\n",
    "if gpus:\n",
    "    try:\n",
    "        # Currently, memory growth needs to be the same across GPUs\n",
    "        for gpu in gpus:\n",
    "            tf.config.experimental.set_memory_growth(gpu, True)\n",
    "        logical_gpus = tf.config.list_logical_devices('GPU')\n",
    "        print(len(gpus), \"Physical GPUs,\", len(logical_gpus), \"Logical GPUs\")\n",
    "        \n",
    "        # GPU Warm-up to ensure it's ready\n",
    "        print(\"Warming up GPU...\")\n",
    "        with tf.device('/GPU:0'):\n",
    "            dummy_tensor = tf.random.normal([1, 1])\n",
    "            _ = dummy_tensor * 2.0\n",
    "        print(\"GPU is warmed up and ready.\")\n",
    "\n",
    "    except RuntimeError as e:\n",
    "        # Memory growth must be set before GPUs have been initialized\n",
    "        print(e)\n",
    "else:\n",
    "    print(\"No GPU detected. Running on CPU.\")"
   ]
  },
  {
   "cell_type": "markdown",
   "id": "b1f643c6",
   "metadata": {},
   "source": [
    "## Step 2: Define Paths and Parameters"
   ]
  },
  {
   "cell_type": "code",
   "execution_count": 7,
   "id": "41d7e6bd",
   "metadata": {},
   "outputs": [],
   "source": [
    "# --- Base Directory (!!! IMPORTANT: UPDATE THIS PATH !!!) ---\n",
    "# Replace this with the absolute path to your project folder\n",
    "base_dir = \"/home/roderickperez/DS_PROJECTS/faultSeg/faultSeg_Wu_2019_Keras\" # e.g., \"/home/user/fault_segmentation\"\n",
    "\n",
    "# --- Source Data Paths ---\n",
    "# These should point to your original .dat files\n",
    "original_data_dir = os.path.join(base_dir, \"data_from_Wu\")\n",
    "train_seis_dir = os.path.join(original_data_dir, \"train/seis\")\n",
    "train_fault_dir = os.path.join(original_data_dir, \"train/fault\")\n",
    "validation_seis_dir = os.path.join(original_data_dir, \"validation/seis\")\n",
    "validation_fault_dir = os.path.join(original_data_dir, \"validation/fault\")\n",
    "\n",
    "# --- Processed Data Paths ---\n",
    "# We will convert .dat files to .npy and store them here for faster loading\n",
    "processed_data_dir = os.path.join(base_dir, \"data_processed_npy\")\n",
    "train_dir_new = os.path.join(processed_data_dir, 'train')\n",
    "validation_dir_new = os.path.join(processed_data_dir, 'validation')\n",
    "\n",
    "# --- Output Artifact Paths ---\n",
    "model_dir = os.path.join(base_dir, \"model\") # Changed from 'check1' to avoid conflict\n",
    "log_dir = os.path.join(base_dir, \"logs_keras\")\n",
    "checkpoint_dir = os.path.join(model_dir, \"checkpoints\")"
   ]
  },
  {
   "cell_type": "code",
   "execution_count": 8,
   "id": "e3794726",
   "metadata": {},
   "outputs": [],
   "source": [
    "# --- Training Parameters (from train_keras.py) ---\n",
    "params = {\n",
    "    'batch_size': 1,\n",
    "    'dim': (128, 128, 128),\n",
    "    'n_channels': 1,\n",
    "    'shuffle': True\n",
    "}\n"
   ]
  },
  {
   "cell_type": "code",
   "execution_count": 9,
   "id": "9ce43d13",
   "metadata": {},
   "outputs": [],
   "source": [
    "# Training configuration\n",
    "epochs = 10 # Original script uses 100 epochs\n",
    "learning_rate = 1e-4"
   ]
  },
  {
   "cell_type": "markdown",
   "id": "184dd295",
   "metadata": {},
   "source": [
    "## Step 3: Prepare Data"
   ]
  },
  {
   "cell_type": "markdown",
   "id": "20e67420",
   "metadata": {},
   "source": [
    "This step involves converting the original `.dat` files into the `.npy` format that our `DataGenerator` expects. We also split the data into training and validation sets. This is a crucial preprocessing step."
   ]
  },
  {
   "cell_type": "code",
   "execution_count": 10,
   "id": "79ee6ef1",
   "metadata": {},
   "outputs": [
    {
     "name": "stdout",
     "output_type": "stream",
     "text": [
      "Removed old processed data directory: /home/roderickperez/DS_PROJECTS/faultSeg/faultSeg_Wu_2019_Keras/data_processed_npy\n",
      "Removed old model directory: /home/roderickperez/DS_PROJECTS/faultSeg/faultSeg_Wu_2019_Keras/model\n",
      "Created new directory structure for processed data and model artifacts.\n",
      "\n",
      "Starting data conversion...\n",
      "Processed 200 files for train.\n",
      "Processed 20 files for validation.\n",
      "\n",
      "Data preparation complete. All .dat files converted to .npy.\n"
     ]
    }
   ],
   "source": [
    "def convert_dat_to_npy():\n",
    "    \"\"\"Creates directories and converts .dat files to .npy format.\"\"\"\n",
    "    # Clean up old directories for a fresh start\n",
    "    if os.path.exists(processed_data_dir):\n",
    "        shutil.rmtree(processed_data_dir)\n",
    "        print(f\"Removed old processed data directory: {processed_data_dir}\")\n",
    "    if os.path.exists(model_dir):\n",
    "        shutil.rmtree(model_dir)\n",
    "        print(f\"Removed old model directory: {model_dir}\")\n",
    "\n",
    "\n",
    "    # Create new directory structure\n",
    "    os.makedirs(os.path.join(train_dir_new, 'seis'), exist_ok=True)\n",
    "    os.makedirs(os.path.join(train_dir_new, 'fault'), exist_ok=True)\n",
    "    os.makedirs(os.path.join(validation_dir_new, 'seis'), exist_ok=True)\n",
    "    os.makedirs(os.path.join(validation_dir_new, 'fault'), exist_ok=True)\n",
    "    os.makedirs(log_dir, exist_ok=True)\n",
    "    os.makedirs(checkpoint_dir, exist_ok=True)\n",
    "    print(\"Created new directory structure for processed data and model artifacts.\")\n",
    "\n",
    "    def process_files(file_list, source_seis, source_fault, dest_dir):\n",
    "        \"\"\"Reads .dat, reshapes, and saves as .npy.\"\"\"\n",
    "        for filename in file_list:\n",
    "            # Process seismic data\n",
    "            seis_dat_path = os.path.join(source_seis, filename)\n",
    "            seis_npy_path = os.path.join(dest_dir, 'seis', filename.replace('.dat', '.npy'))\n",
    "            seismic_data = np.fromfile(seis_dat_path, dtype=np.single).reshape(params['dim'])\n",
    "            np.save(seis_npy_path, seismic_data)\n",
    "\n",
    "            # Process fault data\n",
    "            fault_dat_path = os.path.join(source_fault, filename)\n",
    "            fault_npy_path = os.path.join(dest_dir, 'fault', filename.replace('.dat', '.npy'))\n",
    "            fault_data = np.fromfile(fault_dat_path, dtype=np.single).reshape(params['dim'])\n",
    "            np.save(fault_npy_path, fault_data)\n",
    "        print(f\"Processed {len(file_list)} files for {os.path.basename(dest_dir)}.\")\n",
    "\n",
    "    # Get file lists\n",
    "    train_dat_files = [f for f in os.listdir(train_seis_dir) if f.endswith('.dat')]\n",
    "    validation_dat_files = [f for f in os.listdir(validation_seis_dir) if f.endswith('.dat')]\n",
    "\n",
    "    print(\"\\nStarting data conversion...\")\n",
    "    process_files(train_dat_files, train_seis_dir, train_fault_dir, train_dir_new)\n",
    "    process_files(validation_dat_files, validation_seis_dir, validation_fault_dir, validation_dir_new)\n",
    "    print(\"\\nData preparation complete. All .dat files converted to .npy.\")\n",
    "\n",
    "# Run the conversion\n",
    "convert_dat_to_npy()"
   ]
  },
  {
   "cell_type": "markdown",
   "id": "98c4764f",
   "metadata": {},
   "source": [
    "## Step 4: Create Data Generators"
   ]
  },
  {
   "cell_type": "markdown",
   "id": "c86f0b67",
   "metadata": {},
   "source": [
    "Now that our data is in the correct format and location, we can use the `DataGenerator` from `utils.py` to feed it to our model efficiently. We create one generator for the training set and one for the validation set."
   ]
  },
  {
   "cell_type": "code",
   "execution_count": 11,
   "id": "5b5bb9a6",
   "metadata": {},
   "outputs": [
    {
     "name": "stdout",
     "output_type": "stream",
     "text": [
      "Data generators for training and validation have been created.\n"
     ]
    }
   ],
   "source": [
    "class DataGenerator(Sequence):\n",
    "    'Generates data for a Keras model'\n",
    "    def __init__(self, dpath, fpath, data_IDs, batch_size, dim, n_channels, shuffle):\n",
    "        'Initialization'\n",
    "        super().__init__()\n",
    "        self.dim = dim\n",
    "        self.dpath = dpath\n",
    "        self.fpath = fpath\n",
    "        self.batch_size = batch_size\n",
    "        self.data_IDs = data_IDs\n",
    "        self.n_channels = n_channels\n",
    "        self.shuffle = shuffle\n",
    "        self.on_epoch_end()\n",
    "\n",
    "    def __len__(self):\n",
    "        'Denotes the number of batches per epoch'\n",
    "        return int(np.floor(len(self.data_IDs) / self.batch_size))\n",
    "\n",
    "    def __getitem__(self, index):\n",
    "        'Generates one batch of data'\n",
    "        indexes = self.indexes[index * self.batch_size:(index + 1) * self.batch_size]\n",
    "        data_IDs_temp = [self.data_IDs[k] for k in indexes]\n",
    "        X, Y = self.__data_generation(data_IDs_temp)\n",
    "        return X, Y\n",
    "\n",
    "    def on_epoch_end(self):\n",
    "        'Updates indexes after each epoch'\n",
    "        self.indexes = np.arange(len(self.data_IDs))\n",
    "        if self.shuffle:\n",
    "            np.random.shuffle(self.indexes)\n",
    "\n",
    "    def __data_generation(self, data_IDs_temp):\n",
    "        'Generates data containing batch_size samples with augmentation'\n",
    "        # The augmentation doubles the batch size\n",
    "        effective_batch_size = len(data_IDs_temp) * 2\n",
    "        X = np.empty((effective_batch_size, *self.dim, self.n_channels), dtype=np.single)\n",
    "        Y = np.empty((effective_batch_size, *self.dim, self.n_channels), dtype=np.single)\n",
    "        \n",
    "        for i, ID in enumerate(data_IDs_temp):\n",
    "            # Load pre-converted .npy files\n",
    "            gx = np.load(os.path.join(self.dpath, ID + '.npy'))\n",
    "            fx = np.load(os.path.join(self.fpath, ID + '.npy'))\n",
    "            \n",
    "            # Normalize seismic data\n",
    "            xm = np.mean(gx)\n",
    "            xs = np.std(gx)\n",
    "            gx = (gx - xm) / (xs + 1e-8) # Add epsilon to avoid division by zero\n",
    "            \n",
    "            # Transpose as in original script\n",
    "            gx = np.transpose(gx)\n",
    "            fx = np.transpose(fx)\n",
    "\n",
    "            gx_reshaped = np.reshape(gx, (*self.dim, self.n_channels))\n",
    "            fx_reshaped = np.reshape(fx, (*self.dim, self.n_channels))\n",
    "            \n",
    "            # Original and flipped data for augmentation\n",
    "            X[i * 2, ] = gx_reshaped\n",
    "            Y[i * 2, ] = fx_reshaped\n",
    "            X[i * 2 + 1, ] = np.flipud(gx_reshaped)\n",
    "            Y[i * 2 + 1, ] = np.flipud(fx_reshaped)\n",
    "\n",
    "        return X, Y\n",
    "\n",
    "# --- Instantiate the Generators ---\n",
    "seismPathT = os.path.join(train_dir_new, \"seis/\")\n",
    "faultPathT = os.path.join(train_dir_new, \"fault/\")\n",
    "seismPathV = os.path.join(validation_dir_new, \"seis/\")\n",
    "faultPathV = os.path.join(validation_dir_new, \"fault/\")\n",
    "\n",
    "train_ID = [os.path.splitext(f)[0] for f in os.listdir(seismPathT)]\n",
    "valid_ID = [os.path.splitext(f)[0] for f in os.listdir(seismPathV)]\n",
    "\n",
    "train_generator = DataGenerator(dpath=seismPathT, fpath=faultPathT, data_IDs=train_ID, **params)\n",
    "valid_generator = DataGenerator(dpath=seismPathV, fpath=faultPathV, data_IDs=valid_ID, **params)\n",
    "\n",
    "print(\"Data generators for training and validation have been created.\")"
   ]
  },
  {
   "cell_type": "code",
   "execution_count": 12,
   "id": "06148647",
   "metadata": {},
   "outputs": [
    {
     "name": "stdout",
     "output_type": "stream",
     "text": [
      "Number of training pairs: 200\n",
      "Number of validation pairs: 20\n"
     ]
    }
   ],
   "source": [
    "print(f\"Number of training pairs: {len(train_ID)}\")\n",
    "print(f\"Number of validation pairs: {len(valid_ID)}\")"
   ]
  },
  {
   "cell_type": "markdown",
   "id": "0746cdb7",
   "metadata": {},
   "source": [
    "## Step 5: Build and Compile the Model"
   ]
  },
  {
   "cell_type": "markdown",
   "id": "a9493858",
   "metadata": {},
   "source": [
    "We will now use the `unet` function from `unet3.py` to build our model architecture. After building it, we compile it with an optimizer, a loss function, and metrics to monitor."
   ]
  },
  {
   "cell_type": "code",
   "execution_count": 13,
   "id": "df634b6e",
   "metadata": {},
   "outputs": [
    {
     "data": {
      "text/html": [
       "<pre style=\"white-space:pre;overflow-x:auto;line-height:normal;font-family:Menlo,'DejaVu Sans Mono',consolas,'Courier New',monospace\"><span style=\"font-weight: bold\">Model: \"functional\"</span>\n",
       "</pre>\n"
      ],
      "text/plain": [
       "\u001b[1mModel: \"functional\"\u001b[0m\n"
      ]
     },
     "metadata": {},
     "output_type": "display_data"
    },
    {
     "data": {
      "text/html": [
       "<pre style=\"white-space:pre;overflow-x:auto;line-height:normal;font-family:Menlo,'DejaVu Sans Mono',consolas,'Courier New',monospace\">┏━━━━━━━━━━━━━━━━━━━━━┳━━━━━━━━━━━━━━━━━━━┳━━━━━━━━━━━━┳━━━━━━━━━━━━━━━━━━━┓\n",
       "┃<span style=\"font-weight: bold\"> Layer (type)        </span>┃<span style=\"font-weight: bold\"> Output Shape      </span>┃<span style=\"font-weight: bold\">    Param # </span>┃<span style=\"font-weight: bold\"> Connected to      </span>┃\n",
       "┡━━━━━━━━━━━━━━━━━━━━━╇━━━━━━━━━━━━━━━━━━━╇━━━━━━━━━━━━╇━━━━━━━━━━━━━━━━━━━┩\n",
       "│ input_layer         │ (<span style=\"color: #00d7ff; text-decoration-color: #00d7ff\">None</span>, <span style=\"color: #00af00; text-decoration-color: #00af00\">128</span>, <span style=\"color: #00af00; text-decoration-color: #00af00\">128</span>,  │          <span style=\"color: #00af00; text-decoration-color: #00af00\">0</span> │ -                 │\n",
       "│ (<span style=\"color: #0087ff; text-decoration-color: #0087ff\">InputLayer</span>)        │ <span style=\"color: #00af00; text-decoration-color: #00af00\">128</span>, <span style=\"color: #00af00; text-decoration-color: #00af00\">1</span>)           │            │                   │\n",
       "├─────────────────────┼───────────────────┼────────────┼───────────────────┤\n",
       "│ conv3d (<span style=\"color: #0087ff; text-decoration-color: #0087ff\">Conv3D</span>)     │ (<span style=\"color: #00d7ff; text-decoration-color: #00d7ff\">None</span>, <span style=\"color: #00af00; text-decoration-color: #00af00\">128</span>, <span style=\"color: #00af00; text-decoration-color: #00af00\">128</span>,  │        <span style=\"color: #00af00; text-decoration-color: #00af00\">448</span> │ input_layer[<span style=\"color: #00af00; text-decoration-color: #00af00\">0</span>][<span style=\"color: #00af00; text-decoration-color: #00af00\">0</span>] │\n",
       "│                     │ <span style=\"color: #00af00; text-decoration-color: #00af00\">128</span>, <span style=\"color: #00af00; text-decoration-color: #00af00\">16</span>)          │            │                   │\n",
       "├─────────────────────┼───────────────────┼────────────┼───────────────────┤\n",
       "│ conv3d_1 (<span style=\"color: #0087ff; text-decoration-color: #0087ff\">Conv3D</span>)   │ (<span style=\"color: #00d7ff; text-decoration-color: #00d7ff\">None</span>, <span style=\"color: #00af00; text-decoration-color: #00af00\">128</span>, <span style=\"color: #00af00; text-decoration-color: #00af00\">128</span>,  │      <span style=\"color: #00af00; text-decoration-color: #00af00\">6,928</span> │ conv3d[<span style=\"color: #00af00; text-decoration-color: #00af00\">0</span>][<span style=\"color: #00af00; text-decoration-color: #00af00\">0</span>]      │\n",
       "│                     │ <span style=\"color: #00af00; text-decoration-color: #00af00\">128</span>, <span style=\"color: #00af00; text-decoration-color: #00af00\">16</span>)          │            │                   │\n",
       "├─────────────────────┼───────────────────┼────────────┼───────────────────┤\n",
       "│ max_pooling3d       │ (<span style=\"color: #00d7ff; text-decoration-color: #00d7ff\">None</span>, <span style=\"color: #00af00; text-decoration-color: #00af00\">64</span>, <span style=\"color: #00af00; text-decoration-color: #00af00\">64</span>,    │          <span style=\"color: #00af00; text-decoration-color: #00af00\">0</span> │ conv3d_1[<span style=\"color: #00af00; text-decoration-color: #00af00\">0</span>][<span style=\"color: #00af00; text-decoration-color: #00af00\">0</span>]    │\n",
       "│ (<span style=\"color: #0087ff; text-decoration-color: #0087ff\">MaxPooling3D</span>)      │ <span style=\"color: #00af00; text-decoration-color: #00af00\">64</span>, <span style=\"color: #00af00; text-decoration-color: #00af00\">16</span>)           │            │                   │\n",
       "├─────────────────────┼───────────────────┼────────────┼───────────────────┤\n",
       "│ conv3d_2 (<span style=\"color: #0087ff; text-decoration-color: #0087ff\">Conv3D</span>)   │ (<span style=\"color: #00d7ff; text-decoration-color: #00d7ff\">None</span>, <span style=\"color: #00af00; text-decoration-color: #00af00\">64</span>, <span style=\"color: #00af00; text-decoration-color: #00af00\">64</span>,    │     <span style=\"color: #00af00; text-decoration-color: #00af00\">13,856</span> │ max_pooling3d[<span style=\"color: #00af00; text-decoration-color: #00af00\">0</span>]… │\n",
       "│                     │ <span style=\"color: #00af00; text-decoration-color: #00af00\">64</span>, <span style=\"color: #00af00; text-decoration-color: #00af00\">32</span>)           │            │                   │\n",
       "├─────────────────────┼───────────────────┼────────────┼───────────────────┤\n",
       "│ conv3d_3 (<span style=\"color: #0087ff; text-decoration-color: #0087ff\">Conv3D</span>)   │ (<span style=\"color: #00d7ff; text-decoration-color: #00d7ff\">None</span>, <span style=\"color: #00af00; text-decoration-color: #00af00\">64</span>, <span style=\"color: #00af00; text-decoration-color: #00af00\">64</span>,    │     <span style=\"color: #00af00; text-decoration-color: #00af00\">27,680</span> │ conv3d_2[<span style=\"color: #00af00; text-decoration-color: #00af00\">0</span>][<span style=\"color: #00af00; text-decoration-color: #00af00\">0</span>]    │\n",
       "│                     │ <span style=\"color: #00af00; text-decoration-color: #00af00\">64</span>, <span style=\"color: #00af00; text-decoration-color: #00af00\">32</span>)           │            │                   │\n",
       "├─────────────────────┼───────────────────┼────────────┼───────────────────┤\n",
       "│ max_pooling3d_1     │ (<span style=\"color: #00d7ff; text-decoration-color: #00d7ff\">None</span>, <span style=\"color: #00af00; text-decoration-color: #00af00\">32</span>, <span style=\"color: #00af00; text-decoration-color: #00af00\">32</span>,    │          <span style=\"color: #00af00; text-decoration-color: #00af00\">0</span> │ conv3d_3[<span style=\"color: #00af00; text-decoration-color: #00af00\">0</span>][<span style=\"color: #00af00; text-decoration-color: #00af00\">0</span>]    │\n",
       "│ (<span style=\"color: #0087ff; text-decoration-color: #0087ff\">MaxPooling3D</span>)      │ <span style=\"color: #00af00; text-decoration-color: #00af00\">32</span>, <span style=\"color: #00af00; text-decoration-color: #00af00\">32</span>)           │            │                   │\n",
       "├─────────────────────┼───────────────────┼────────────┼───────────────────┤\n",
       "│ conv3d_4 (<span style=\"color: #0087ff; text-decoration-color: #0087ff\">Conv3D</span>)   │ (<span style=\"color: #00d7ff; text-decoration-color: #00d7ff\">None</span>, <span style=\"color: #00af00; text-decoration-color: #00af00\">32</span>, <span style=\"color: #00af00; text-decoration-color: #00af00\">32</span>,    │     <span style=\"color: #00af00; text-decoration-color: #00af00\">55,360</span> │ max_pooling3d_1[<span style=\"color: #00af00; text-decoration-color: #00af00\">…</span> │\n",
       "│                     │ <span style=\"color: #00af00; text-decoration-color: #00af00\">32</span>, <span style=\"color: #00af00; text-decoration-color: #00af00\">64</span>)           │            │                   │\n",
       "├─────────────────────┼───────────────────┼────────────┼───────────────────┤\n",
       "│ conv3d_5 (<span style=\"color: #0087ff; text-decoration-color: #0087ff\">Conv3D</span>)   │ (<span style=\"color: #00d7ff; text-decoration-color: #00d7ff\">None</span>, <span style=\"color: #00af00; text-decoration-color: #00af00\">32</span>, <span style=\"color: #00af00; text-decoration-color: #00af00\">32</span>,    │    <span style=\"color: #00af00; text-decoration-color: #00af00\">110,656</span> │ conv3d_4[<span style=\"color: #00af00; text-decoration-color: #00af00\">0</span>][<span style=\"color: #00af00; text-decoration-color: #00af00\">0</span>]    │\n",
       "│                     │ <span style=\"color: #00af00; text-decoration-color: #00af00\">32</span>, <span style=\"color: #00af00; text-decoration-color: #00af00\">64</span>)           │            │                   │\n",
       "├─────────────────────┼───────────────────┼────────────┼───────────────────┤\n",
       "│ max_pooling3d_2     │ (<span style=\"color: #00d7ff; text-decoration-color: #00d7ff\">None</span>, <span style=\"color: #00af00; text-decoration-color: #00af00\">16</span>, <span style=\"color: #00af00; text-decoration-color: #00af00\">16</span>,    │          <span style=\"color: #00af00; text-decoration-color: #00af00\">0</span> │ conv3d_5[<span style=\"color: #00af00; text-decoration-color: #00af00\">0</span>][<span style=\"color: #00af00; text-decoration-color: #00af00\">0</span>]    │\n",
       "│ (<span style=\"color: #0087ff; text-decoration-color: #0087ff\">MaxPooling3D</span>)      │ <span style=\"color: #00af00; text-decoration-color: #00af00\">16</span>, <span style=\"color: #00af00; text-decoration-color: #00af00\">64</span>)           │            │                   │\n",
       "├─────────────────────┼───────────────────┼────────────┼───────────────────┤\n",
       "│ conv3d_6 (<span style=\"color: #0087ff; text-decoration-color: #0087ff\">Conv3D</span>)   │ (<span style=\"color: #00d7ff; text-decoration-color: #00d7ff\">None</span>, <span style=\"color: #00af00; text-decoration-color: #00af00\">16</span>, <span style=\"color: #00af00; text-decoration-color: #00af00\">16</span>,    │    <span style=\"color: #00af00; text-decoration-color: #00af00\">221,312</span> │ max_pooling3d_2[<span style=\"color: #00af00; text-decoration-color: #00af00\">…</span> │\n",
       "│                     │ <span style=\"color: #00af00; text-decoration-color: #00af00\">16</span>, <span style=\"color: #00af00; text-decoration-color: #00af00\">128</span>)          │            │                   │\n",
       "├─────────────────────┼───────────────────┼────────────┼───────────────────┤\n",
       "│ conv3d_7 (<span style=\"color: #0087ff; text-decoration-color: #0087ff\">Conv3D</span>)   │ (<span style=\"color: #00d7ff; text-decoration-color: #00d7ff\">None</span>, <span style=\"color: #00af00; text-decoration-color: #00af00\">16</span>, <span style=\"color: #00af00; text-decoration-color: #00af00\">16</span>,    │    <span style=\"color: #00af00; text-decoration-color: #00af00\">442,496</span> │ conv3d_6[<span style=\"color: #00af00; text-decoration-color: #00af00\">0</span>][<span style=\"color: #00af00; text-decoration-color: #00af00\">0</span>]    │\n",
       "│                     │ <span style=\"color: #00af00; text-decoration-color: #00af00\">16</span>, <span style=\"color: #00af00; text-decoration-color: #00af00\">128</span>)          │            │                   │\n",
       "├─────────────────────┼───────────────────┼────────────┼───────────────────┤\n",
       "│ up_sampling3d       │ (<span style=\"color: #00d7ff; text-decoration-color: #00d7ff\">None</span>, <span style=\"color: #00af00; text-decoration-color: #00af00\">32</span>, <span style=\"color: #00af00; text-decoration-color: #00af00\">32</span>,    │          <span style=\"color: #00af00; text-decoration-color: #00af00\">0</span> │ conv3d_7[<span style=\"color: #00af00; text-decoration-color: #00af00\">0</span>][<span style=\"color: #00af00; text-decoration-color: #00af00\">0</span>]    │\n",
       "│ (<span style=\"color: #0087ff; text-decoration-color: #0087ff\">UpSampling3D</span>)      │ <span style=\"color: #00af00; text-decoration-color: #00af00\">32</span>, <span style=\"color: #00af00; text-decoration-color: #00af00\">128</span>)          │            │                   │\n",
       "├─────────────────────┼───────────────────┼────────────┼───────────────────┤\n",
       "│ concatenate         │ (<span style=\"color: #00d7ff; text-decoration-color: #00d7ff\">None</span>, <span style=\"color: #00af00; text-decoration-color: #00af00\">32</span>, <span style=\"color: #00af00; text-decoration-color: #00af00\">32</span>,    │          <span style=\"color: #00af00; text-decoration-color: #00af00\">0</span> │ up_sampling3d[<span style=\"color: #00af00; text-decoration-color: #00af00\">0</span>]… │\n",
       "│ (<span style=\"color: #0087ff; text-decoration-color: #0087ff\">Concatenate</span>)       │ <span style=\"color: #00af00; text-decoration-color: #00af00\">32</span>, <span style=\"color: #00af00; text-decoration-color: #00af00\">192</span>)          │            │ conv3d_5[<span style=\"color: #00af00; text-decoration-color: #00af00\">0</span>][<span style=\"color: #00af00; text-decoration-color: #00af00\">0</span>]    │\n",
       "├─────────────────────┼───────────────────┼────────────┼───────────────────┤\n",
       "│ conv3d_8 (<span style=\"color: #0087ff; text-decoration-color: #0087ff\">Conv3D</span>)   │ (<span style=\"color: #00d7ff; text-decoration-color: #00d7ff\">None</span>, <span style=\"color: #00af00; text-decoration-color: #00af00\">32</span>, <span style=\"color: #00af00; text-decoration-color: #00af00\">32</span>,    │    <span style=\"color: #00af00; text-decoration-color: #00af00\">331,840</span> │ concatenate[<span style=\"color: #00af00; text-decoration-color: #00af00\">0</span>][<span style=\"color: #00af00; text-decoration-color: #00af00\">0</span>] │\n",
       "│                     │ <span style=\"color: #00af00; text-decoration-color: #00af00\">32</span>, <span style=\"color: #00af00; text-decoration-color: #00af00\">64</span>)           │            │                   │\n",
       "├─────────────────────┼───────────────────┼────────────┼───────────────────┤\n",
       "│ conv3d_9 (<span style=\"color: #0087ff; text-decoration-color: #0087ff\">Conv3D</span>)   │ (<span style=\"color: #00d7ff; text-decoration-color: #00d7ff\">None</span>, <span style=\"color: #00af00; text-decoration-color: #00af00\">32</span>, <span style=\"color: #00af00; text-decoration-color: #00af00\">32</span>,    │    <span style=\"color: #00af00; text-decoration-color: #00af00\">110,656</span> │ conv3d_8[<span style=\"color: #00af00; text-decoration-color: #00af00\">0</span>][<span style=\"color: #00af00; text-decoration-color: #00af00\">0</span>]    │\n",
       "│                     │ <span style=\"color: #00af00; text-decoration-color: #00af00\">32</span>, <span style=\"color: #00af00; text-decoration-color: #00af00\">64</span>)           │            │                   │\n",
       "├─────────────────────┼───────────────────┼────────────┼───────────────────┤\n",
       "│ up_sampling3d_1     │ (<span style=\"color: #00d7ff; text-decoration-color: #00d7ff\">None</span>, <span style=\"color: #00af00; text-decoration-color: #00af00\">64</span>, <span style=\"color: #00af00; text-decoration-color: #00af00\">64</span>,    │          <span style=\"color: #00af00; text-decoration-color: #00af00\">0</span> │ conv3d_9[<span style=\"color: #00af00; text-decoration-color: #00af00\">0</span>][<span style=\"color: #00af00; text-decoration-color: #00af00\">0</span>]    │\n",
       "│ (<span style=\"color: #0087ff; text-decoration-color: #0087ff\">UpSampling3D</span>)      │ <span style=\"color: #00af00; text-decoration-color: #00af00\">64</span>, <span style=\"color: #00af00; text-decoration-color: #00af00\">64</span>)           │            │                   │\n",
       "├─────────────────────┼───────────────────┼────────────┼───────────────────┤\n",
       "│ concatenate_1       │ (<span style=\"color: #00d7ff; text-decoration-color: #00d7ff\">None</span>, <span style=\"color: #00af00; text-decoration-color: #00af00\">64</span>, <span style=\"color: #00af00; text-decoration-color: #00af00\">64</span>,    │          <span style=\"color: #00af00; text-decoration-color: #00af00\">0</span> │ up_sampling3d_1[<span style=\"color: #00af00; text-decoration-color: #00af00\">…</span> │\n",
       "│ (<span style=\"color: #0087ff; text-decoration-color: #0087ff\">Concatenate</span>)       │ <span style=\"color: #00af00; text-decoration-color: #00af00\">64</span>, <span style=\"color: #00af00; text-decoration-color: #00af00\">96</span>)           │            │ conv3d_3[<span style=\"color: #00af00; text-decoration-color: #00af00\">0</span>][<span style=\"color: #00af00; text-decoration-color: #00af00\">0</span>]    │\n",
       "├─────────────────────┼───────────────────┼────────────┼───────────────────┤\n",
       "│ conv3d_10 (<span style=\"color: #0087ff; text-decoration-color: #0087ff\">Conv3D</span>)  │ (<span style=\"color: #00d7ff; text-decoration-color: #00d7ff\">None</span>, <span style=\"color: #00af00; text-decoration-color: #00af00\">64</span>, <span style=\"color: #00af00; text-decoration-color: #00af00\">64</span>,    │     <span style=\"color: #00af00; text-decoration-color: #00af00\">82,976</span> │ concatenate_1[<span style=\"color: #00af00; text-decoration-color: #00af00\">0</span>]… │\n",
       "│                     │ <span style=\"color: #00af00; text-decoration-color: #00af00\">64</span>, <span style=\"color: #00af00; text-decoration-color: #00af00\">32</span>)           │            │                   │\n",
       "├─────────────────────┼───────────────────┼────────────┼───────────────────┤\n",
       "│ conv3d_11 (<span style=\"color: #0087ff; text-decoration-color: #0087ff\">Conv3D</span>)  │ (<span style=\"color: #00d7ff; text-decoration-color: #00d7ff\">None</span>, <span style=\"color: #00af00; text-decoration-color: #00af00\">64</span>, <span style=\"color: #00af00; text-decoration-color: #00af00\">64</span>,    │     <span style=\"color: #00af00; text-decoration-color: #00af00\">27,680</span> │ conv3d_10[<span style=\"color: #00af00; text-decoration-color: #00af00\">0</span>][<span style=\"color: #00af00; text-decoration-color: #00af00\">0</span>]   │\n",
       "│                     │ <span style=\"color: #00af00; text-decoration-color: #00af00\">64</span>, <span style=\"color: #00af00; text-decoration-color: #00af00\">32</span>)           │            │                   │\n",
       "├─────────────────────┼───────────────────┼────────────┼───────────────────┤\n",
       "│ up_sampling3d_2     │ (<span style=\"color: #00d7ff; text-decoration-color: #00d7ff\">None</span>, <span style=\"color: #00af00; text-decoration-color: #00af00\">128</span>, <span style=\"color: #00af00; text-decoration-color: #00af00\">128</span>,  │          <span style=\"color: #00af00; text-decoration-color: #00af00\">0</span> │ conv3d_11[<span style=\"color: #00af00; text-decoration-color: #00af00\">0</span>][<span style=\"color: #00af00; text-decoration-color: #00af00\">0</span>]   │\n",
       "│ (<span style=\"color: #0087ff; text-decoration-color: #0087ff\">UpSampling3D</span>)      │ <span style=\"color: #00af00; text-decoration-color: #00af00\">128</span>, <span style=\"color: #00af00; text-decoration-color: #00af00\">32</span>)          │            │                   │\n",
       "├─────────────────────┼───────────────────┼────────────┼───────────────────┤\n",
       "│ concatenate_2       │ (<span style=\"color: #00d7ff; text-decoration-color: #00d7ff\">None</span>, <span style=\"color: #00af00; text-decoration-color: #00af00\">128</span>, <span style=\"color: #00af00; text-decoration-color: #00af00\">128</span>,  │          <span style=\"color: #00af00; text-decoration-color: #00af00\">0</span> │ up_sampling3d_2[<span style=\"color: #00af00; text-decoration-color: #00af00\">…</span> │\n",
       "│ (<span style=\"color: #0087ff; text-decoration-color: #0087ff\">Concatenate</span>)       │ <span style=\"color: #00af00; text-decoration-color: #00af00\">128</span>, <span style=\"color: #00af00; text-decoration-color: #00af00\">48</span>)          │            │ conv3d_1[<span style=\"color: #00af00; text-decoration-color: #00af00\">0</span>][<span style=\"color: #00af00; text-decoration-color: #00af00\">0</span>]    │\n",
       "├─────────────────────┼───────────────────┼────────────┼───────────────────┤\n",
       "│ conv3d_12 (<span style=\"color: #0087ff; text-decoration-color: #0087ff\">Conv3D</span>)  │ (<span style=\"color: #00d7ff; text-decoration-color: #00d7ff\">None</span>, <span style=\"color: #00af00; text-decoration-color: #00af00\">128</span>, <span style=\"color: #00af00; text-decoration-color: #00af00\">128</span>,  │     <span style=\"color: #00af00; text-decoration-color: #00af00\">20,752</span> │ concatenate_2[<span style=\"color: #00af00; text-decoration-color: #00af00\">0</span>]… │\n",
       "│                     │ <span style=\"color: #00af00; text-decoration-color: #00af00\">128</span>, <span style=\"color: #00af00; text-decoration-color: #00af00\">16</span>)          │            │                   │\n",
       "├─────────────────────┼───────────────────┼────────────┼───────────────────┤\n",
       "│ conv3d_13 (<span style=\"color: #0087ff; text-decoration-color: #0087ff\">Conv3D</span>)  │ (<span style=\"color: #00d7ff; text-decoration-color: #00d7ff\">None</span>, <span style=\"color: #00af00; text-decoration-color: #00af00\">128</span>, <span style=\"color: #00af00; text-decoration-color: #00af00\">128</span>,  │      <span style=\"color: #00af00; text-decoration-color: #00af00\">6,928</span> │ conv3d_12[<span style=\"color: #00af00; text-decoration-color: #00af00\">0</span>][<span style=\"color: #00af00; text-decoration-color: #00af00\">0</span>]   │\n",
       "│                     │ <span style=\"color: #00af00; text-decoration-color: #00af00\">128</span>, <span style=\"color: #00af00; text-decoration-color: #00af00\">16</span>)          │            │                   │\n",
       "├─────────────────────┼───────────────────┼────────────┼───────────────────┤\n",
       "│ conv3d_14 (<span style=\"color: #0087ff; text-decoration-color: #0087ff\">Conv3D</span>)  │ (<span style=\"color: #00d7ff; text-decoration-color: #00d7ff\">None</span>, <span style=\"color: #00af00; text-decoration-color: #00af00\">128</span>, <span style=\"color: #00af00; text-decoration-color: #00af00\">128</span>,  │         <span style=\"color: #00af00; text-decoration-color: #00af00\">17</span> │ conv3d_13[<span style=\"color: #00af00; text-decoration-color: #00af00\">0</span>][<span style=\"color: #00af00; text-decoration-color: #00af00\">0</span>]   │\n",
       "│                     │ <span style=\"color: #00af00; text-decoration-color: #00af00\">128</span>, <span style=\"color: #00af00; text-decoration-color: #00af00\">1</span>)           │            │                   │\n",
       "└─────────────────────┴───────────────────┴────────────┴───────────────────┘\n",
       "</pre>\n"
      ],
      "text/plain": [
       "┏━━━━━━━━━━━━━━━━━━━━━┳━━━━━━━━━━━━━━━━━━━┳━━━━━━━━━━━━┳━━━━━━━━━━━━━━━━━━━┓\n",
       "┃\u001b[1m \u001b[0m\u001b[1mLayer (type)       \u001b[0m\u001b[1m \u001b[0m┃\u001b[1m \u001b[0m\u001b[1mOutput Shape     \u001b[0m\u001b[1m \u001b[0m┃\u001b[1m \u001b[0m\u001b[1m   Param #\u001b[0m\u001b[1m \u001b[0m┃\u001b[1m \u001b[0m\u001b[1mConnected to     \u001b[0m\u001b[1m \u001b[0m┃\n",
       "┡━━━━━━━━━━━━━━━━━━━━━╇━━━━━━━━━━━━━━━━━━━╇━━━━━━━━━━━━╇━━━━━━━━━━━━━━━━━━━┩\n",
       "│ input_layer         │ (\u001b[38;5;45mNone\u001b[0m, \u001b[38;5;34m128\u001b[0m, \u001b[38;5;34m128\u001b[0m,  │          \u001b[38;5;34m0\u001b[0m │ -                 │\n",
       "│ (\u001b[38;5;33mInputLayer\u001b[0m)        │ \u001b[38;5;34m128\u001b[0m, \u001b[38;5;34m1\u001b[0m)           │            │                   │\n",
       "├─────────────────────┼───────────────────┼────────────┼───────────────────┤\n",
       "│ conv3d (\u001b[38;5;33mConv3D\u001b[0m)     │ (\u001b[38;5;45mNone\u001b[0m, \u001b[38;5;34m128\u001b[0m, \u001b[38;5;34m128\u001b[0m,  │        \u001b[38;5;34m448\u001b[0m │ input_layer[\u001b[38;5;34m0\u001b[0m][\u001b[38;5;34m0\u001b[0m] │\n",
       "│                     │ \u001b[38;5;34m128\u001b[0m, \u001b[38;5;34m16\u001b[0m)          │            │                   │\n",
       "├─────────────────────┼───────────────────┼────────────┼───────────────────┤\n",
       "│ conv3d_1 (\u001b[38;5;33mConv3D\u001b[0m)   │ (\u001b[38;5;45mNone\u001b[0m, \u001b[38;5;34m128\u001b[0m, \u001b[38;5;34m128\u001b[0m,  │      \u001b[38;5;34m6,928\u001b[0m │ conv3d[\u001b[38;5;34m0\u001b[0m][\u001b[38;5;34m0\u001b[0m]      │\n",
       "│                     │ \u001b[38;5;34m128\u001b[0m, \u001b[38;5;34m16\u001b[0m)          │            │                   │\n",
       "├─────────────────────┼───────────────────┼────────────┼───────────────────┤\n",
       "│ max_pooling3d       │ (\u001b[38;5;45mNone\u001b[0m, \u001b[38;5;34m64\u001b[0m, \u001b[38;5;34m64\u001b[0m,    │          \u001b[38;5;34m0\u001b[0m │ conv3d_1[\u001b[38;5;34m0\u001b[0m][\u001b[38;5;34m0\u001b[0m]    │\n",
       "│ (\u001b[38;5;33mMaxPooling3D\u001b[0m)      │ \u001b[38;5;34m64\u001b[0m, \u001b[38;5;34m16\u001b[0m)           │            │                   │\n",
       "├─────────────────────┼───────────────────┼────────────┼───────────────────┤\n",
       "│ conv3d_2 (\u001b[38;5;33mConv3D\u001b[0m)   │ (\u001b[38;5;45mNone\u001b[0m, \u001b[38;5;34m64\u001b[0m, \u001b[38;5;34m64\u001b[0m,    │     \u001b[38;5;34m13,856\u001b[0m │ max_pooling3d[\u001b[38;5;34m0\u001b[0m]… │\n",
       "│                     │ \u001b[38;5;34m64\u001b[0m, \u001b[38;5;34m32\u001b[0m)           │            │                   │\n",
       "├─────────────────────┼───────────────────┼────────────┼───────────────────┤\n",
       "│ conv3d_3 (\u001b[38;5;33mConv3D\u001b[0m)   │ (\u001b[38;5;45mNone\u001b[0m, \u001b[38;5;34m64\u001b[0m, \u001b[38;5;34m64\u001b[0m,    │     \u001b[38;5;34m27,680\u001b[0m │ conv3d_2[\u001b[38;5;34m0\u001b[0m][\u001b[38;5;34m0\u001b[0m]    │\n",
       "│                     │ \u001b[38;5;34m64\u001b[0m, \u001b[38;5;34m32\u001b[0m)           │            │                   │\n",
       "├─────────────────────┼───────────────────┼────────────┼───────────────────┤\n",
       "│ max_pooling3d_1     │ (\u001b[38;5;45mNone\u001b[0m, \u001b[38;5;34m32\u001b[0m, \u001b[38;5;34m32\u001b[0m,    │          \u001b[38;5;34m0\u001b[0m │ conv3d_3[\u001b[38;5;34m0\u001b[0m][\u001b[38;5;34m0\u001b[0m]    │\n",
       "│ (\u001b[38;5;33mMaxPooling3D\u001b[0m)      │ \u001b[38;5;34m32\u001b[0m, \u001b[38;5;34m32\u001b[0m)           │            │                   │\n",
       "├─────────────────────┼───────────────────┼────────────┼───────────────────┤\n",
       "│ conv3d_4 (\u001b[38;5;33mConv3D\u001b[0m)   │ (\u001b[38;5;45mNone\u001b[0m, \u001b[38;5;34m32\u001b[0m, \u001b[38;5;34m32\u001b[0m,    │     \u001b[38;5;34m55,360\u001b[0m │ max_pooling3d_1[\u001b[38;5;34m…\u001b[0m │\n",
       "│                     │ \u001b[38;5;34m32\u001b[0m, \u001b[38;5;34m64\u001b[0m)           │            │                   │\n",
       "├─────────────────────┼───────────────────┼────────────┼───────────────────┤\n",
       "│ conv3d_5 (\u001b[38;5;33mConv3D\u001b[0m)   │ (\u001b[38;5;45mNone\u001b[0m, \u001b[38;5;34m32\u001b[0m, \u001b[38;5;34m32\u001b[0m,    │    \u001b[38;5;34m110,656\u001b[0m │ conv3d_4[\u001b[38;5;34m0\u001b[0m][\u001b[38;5;34m0\u001b[0m]    │\n",
       "│                     │ \u001b[38;5;34m32\u001b[0m, \u001b[38;5;34m64\u001b[0m)           │            │                   │\n",
       "├─────────────────────┼───────────────────┼────────────┼───────────────────┤\n",
       "│ max_pooling3d_2     │ (\u001b[38;5;45mNone\u001b[0m, \u001b[38;5;34m16\u001b[0m, \u001b[38;5;34m16\u001b[0m,    │          \u001b[38;5;34m0\u001b[0m │ conv3d_5[\u001b[38;5;34m0\u001b[0m][\u001b[38;5;34m0\u001b[0m]    │\n",
       "│ (\u001b[38;5;33mMaxPooling3D\u001b[0m)      │ \u001b[38;5;34m16\u001b[0m, \u001b[38;5;34m64\u001b[0m)           │            │                   │\n",
       "├─────────────────────┼───────────────────┼────────────┼───────────────────┤\n",
       "│ conv3d_6 (\u001b[38;5;33mConv3D\u001b[0m)   │ (\u001b[38;5;45mNone\u001b[0m, \u001b[38;5;34m16\u001b[0m, \u001b[38;5;34m16\u001b[0m,    │    \u001b[38;5;34m221,312\u001b[0m │ max_pooling3d_2[\u001b[38;5;34m…\u001b[0m │\n",
       "│                     │ \u001b[38;5;34m16\u001b[0m, \u001b[38;5;34m128\u001b[0m)          │            │                   │\n",
       "├─────────────────────┼───────────────────┼────────────┼───────────────────┤\n",
       "│ conv3d_7 (\u001b[38;5;33mConv3D\u001b[0m)   │ (\u001b[38;5;45mNone\u001b[0m, \u001b[38;5;34m16\u001b[0m, \u001b[38;5;34m16\u001b[0m,    │    \u001b[38;5;34m442,496\u001b[0m │ conv3d_6[\u001b[38;5;34m0\u001b[0m][\u001b[38;5;34m0\u001b[0m]    │\n",
       "│                     │ \u001b[38;5;34m16\u001b[0m, \u001b[38;5;34m128\u001b[0m)          │            │                   │\n",
       "├─────────────────────┼───────────────────┼────────────┼───────────────────┤\n",
       "│ up_sampling3d       │ (\u001b[38;5;45mNone\u001b[0m, \u001b[38;5;34m32\u001b[0m, \u001b[38;5;34m32\u001b[0m,    │          \u001b[38;5;34m0\u001b[0m │ conv3d_7[\u001b[38;5;34m0\u001b[0m][\u001b[38;5;34m0\u001b[0m]    │\n",
       "│ (\u001b[38;5;33mUpSampling3D\u001b[0m)      │ \u001b[38;5;34m32\u001b[0m, \u001b[38;5;34m128\u001b[0m)          │            │                   │\n",
       "├─────────────────────┼───────────────────┼────────────┼───────────────────┤\n",
       "│ concatenate         │ (\u001b[38;5;45mNone\u001b[0m, \u001b[38;5;34m32\u001b[0m, \u001b[38;5;34m32\u001b[0m,    │          \u001b[38;5;34m0\u001b[0m │ up_sampling3d[\u001b[38;5;34m0\u001b[0m]… │\n",
       "│ (\u001b[38;5;33mConcatenate\u001b[0m)       │ \u001b[38;5;34m32\u001b[0m, \u001b[38;5;34m192\u001b[0m)          │            │ conv3d_5[\u001b[38;5;34m0\u001b[0m][\u001b[38;5;34m0\u001b[0m]    │\n",
       "├─────────────────────┼───────────────────┼────────────┼───────────────────┤\n",
       "│ conv3d_8 (\u001b[38;5;33mConv3D\u001b[0m)   │ (\u001b[38;5;45mNone\u001b[0m, \u001b[38;5;34m32\u001b[0m, \u001b[38;5;34m32\u001b[0m,    │    \u001b[38;5;34m331,840\u001b[0m │ concatenate[\u001b[38;5;34m0\u001b[0m][\u001b[38;5;34m0\u001b[0m] │\n",
       "│                     │ \u001b[38;5;34m32\u001b[0m, \u001b[38;5;34m64\u001b[0m)           │            │                   │\n",
       "├─────────────────────┼───────────────────┼────────────┼───────────────────┤\n",
       "│ conv3d_9 (\u001b[38;5;33mConv3D\u001b[0m)   │ (\u001b[38;5;45mNone\u001b[0m, \u001b[38;5;34m32\u001b[0m, \u001b[38;5;34m32\u001b[0m,    │    \u001b[38;5;34m110,656\u001b[0m │ conv3d_8[\u001b[38;5;34m0\u001b[0m][\u001b[38;5;34m0\u001b[0m]    │\n",
       "│                     │ \u001b[38;5;34m32\u001b[0m, \u001b[38;5;34m64\u001b[0m)           │            │                   │\n",
       "├─────────────────────┼───────────────────┼────────────┼───────────────────┤\n",
       "│ up_sampling3d_1     │ (\u001b[38;5;45mNone\u001b[0m, \u001b[38;5;34m64\u001b[0m, \u001b[38;5;34m64\u001b[0m,    │          \u001b[38;5;34m0\u001b[0m │ conv3d_9[\u001b[38;5;34m0\u001b[0m][\u001b[38;5;34m0\u001b[0m]    │\n",
       "│ (\u001b[38;5;33mUpSampling3D\u001b[0m)      │ \u001b[38;5;34m64\u001b[0m, \u001b[38;5;34m64\u001b[0m)           │            │                   │\n",
       "├─────────────────────┼───────────────────┼────────────┼───────────────────┤\n",
       "│ concatenate_1       │ (\u001b[38;5;45mNone\u001b[0m, \u001b[38;5;34m64\u001b[0m, \u001b[38;5;34m64\u001b[0m,    │          \u001b[38;5;34m0\u001b[0m │ up_sampling3d_1[\u001b[38;5;34m…\u001b[0m │\n",
       "│ (\u001b[38;5;33mConcatenate\u001b[0m)       │ \u001b[38;5;34m64\u001b[0m, \u001b[38;5;34m96\u001b[0m)           │            │ conv3d_3[\u001b[38;5;34m0\u001b[0m][\u001b[38;5;34m0\u001b[0m]    │\n",
       "├─────────────────────┼───────────────────┼────────────┼───────────────────┤\n",
       "│ conv3d_10 (\u001b[38;5;33mConv3D\u001b[0m)  │ (\u001b[38;5;45mNone\u001b[0m, \u001b[38;5;34m64\u001b[0m, \u001b[38;5;34m64\u001b[0m,    │     \u001b[38;5;34m82,976\u001b[0m │ concatenate_1[\u001b[38;5;34m0\u001b[0m]… │\n",
       "│                     │ \u001b[38;5;34m64\u001b[0m, \u001b[38;5;34m32\u001b[0m)           │            │                   │\n",
       "├─────────────────────┼───────────────────┼────────────┼───────────────────┤\n",
       "│ conv3d_11 (\u001b[38;5;33mConv3D\u001b[0m)  │ (\u001b[38;5;45mNone\u001b[0m, \u001b[38;5;34m64\u001b[0m, \u001b[38;5;34m64\u001b[0m,    │     \u001b[38;5;34m27,680\u001b[0m │ conv3d_10[\u001b[38;5;34m0\u001b[0m][\u001b[38;5;34m0\u001b[0m]   │\n",
       "│                     │ \u001b[38;5;34m64\u001b[0m, \u001b[38;5;34m32\u001b[0m)           │            │                   │\n",
       "├─────────────────────┼───────────────────┼────────────┼───────────────────┤\n",
       "│ up_sampling3d_2     │ (\u001b[38;5;45mNone\u001b[0m, \u001b[38;5;34m128\u001b[0m, \u001b[38;5;34m128\u001b[0m,  │          \u001b[38;5;34m0\u001b[0m │ conv3d_11[\u001b[38;5;34m0\u001b[0m][\u001b[38;5;34m0\u001b[0m]   │\n",
       "│ (\u001b[38;5;33mUpSampling3D\u001b[0m)      │ \u001b[38;5;34m128\u001b[0m, \u001b[38;5;34m32\u001b[0m)          │            │                   │\n",
       "├─────────────────────┼───────────────────┼────────────┼───────────────────┤\n",
       "│ concatenate_2       │ (\u001b[38;5;45mNone\u001b[0m, \u001b[38;5;34m128\u001b[0m, \u001b[38;5;34m128\u001b[0m,  │          \u001b[38;5;34m0\u001b[0m │ up_sampling3d_2[\u001b[38;5;34m…\u001b[0m │\n",
       "│ (\u001b[38;5;33mConcatenate\u001b[0m)       │ \u001b[38;5;34m128\u001b[0m, \u001b[38;5;34m48\u001b[0m)          │            │ conv3d_1[\u001b[38;5;34m0\u001b[0m][\u001b[38;5;34m0\u001b[0m]    │\n",
       "├─────────────────────┼───────────────────┼────────────┼───────────────────┤\n",
       "│ conv3d_12 (\u001b[38;5;33mConv3D\u001b[0m)  │ (\u001b[38;5;45mNone\u001b[0m, \u001b[38;5;34m128\u001b[0m, \u001b[38;5;34m128\u001b[0m,  │     \u001b[38;5;34m20,752\u001b[0m │ concatenate_2[\u001b[38;5;34m0\u001b[0m]… │\n",
       "│                     │ \u001b[38;5;34m128\u001b[0m, \u001b[38;5;34m16\u001b[0m)          │            │                   │\n",
       "├─────────────────────┼───────────────────┼────────────┼───────────────────┤\n",
       "│ conv3d_13 (\u001b[38;5;33mConv3D\u001b[0m)  │ (\u001b[38;5;45mNone\u001b[0m, \u001b[38;5;34m128\u001b[0m, \u001b[38;5;34m128\u001b[0m,  │      \u001b[38;5;34m6,928\u001b[0m │ conv3d_12[\u001b[38;5;34m0\u001b[0m][\u001b[38;5;34m0\u001b[0m]   │\n",
       "│                     │ \u001b[38;5;34m128\u001b[0m, \u001b[38;5;34m16\u001b[0m)          │            │                   │\n",
       "├─────────────────────┼───────────────────┼────────────┼───────────────────┤\n",
       "│ conv3d_14 (\u001b[38;5;33mConv3D\u001b[0m)  │ (\u001b[38;5;45mNone\u001b[0m, \u001b[38;5;34m128\u001b[0m, \u001b[38;5;34m128\u001b[0m,  │         \u001b[38;5;34m17\u001b[0m │ conv3d_13[\u001b[38;5;34m0\u001b[0m][\u001b[38;5;34m0\u001b[0m]   │\n",
       "│                     │ \u001b[38;5;34m128\u001b[0m, \u001b[38;5;34m1\u001b[0m)           │            │                   │\n",
       "└─────────────────────┴───────────────────┴────────────┴───────────────────┘\n"
      ]
     },
     "metadata": {},
     "output_type": "display_data"
    },
    {
     "data": {
      "text/html": [
       "<pre style=\"white-space:pre;overflow-x:auto;line-height:normal;font-family:Menlo,'DejaVu Sans Mono',consolas,'Courier New',monospace\"><span style=\"font-weight: bold\"> Total params: </span><span style=\"color: #00af00; text-decoration-color: #00af00\">1,459,585</span> (5.57 MB)\n",
       "</pre>\n"
      ],
      "text/plain": [
       "\u001b[1m Total params: \u001b[0m\u001b[38;5;34m1,459,585\u001b[0m (5.57 MB)\n"
      ]
     },
     "metadata": {},
     "output_type": "display_data"
    },
    {
     "data": {
      "text/html": [
       "<pre style=\"white-space:pre;overflow-x:auto;line-height:normal;font-family:Menlo,'DejaVu Sans Mono',consolas,'Courier New',monospace\"><span style=\"font-weight: bold\"> Trainable params: </span><span style=\"color: #00af00; text-decoration-color: #00af00\">1,459,585</span> (5.57 MB)\n",
       "</pre>\n"
      ],
      "text/plain": [
       "\u001b[1m Trainable params: \u001b[0m\u001b[38;5;34m1,459,585\u001b[0m (5.57 MB)\n"
      ]
     },
     "metadata": {},
     "output_type": "display_data"
    },
    {
     "data": {
      "text/html": [
       "<pre style=\"white-space:pre;overflow-x:auto;line-height:normal;font-family:Menlo,'DejaVu Sans Mono',consolas,'Courier New',monospace\"><span style=\"font-weight: bold\"> Non-trainable params: </span><span style=\"color: #00af00; text-decoration-color: #00af00\">0</span> (0.00 B)\n",
       "</pre>\n"
      ],
      "text/plain": [
       "\u001b[1m Non-trainable params: \u001b[0m\u001b[38;5;34m0\u001b[0m (0.00 B)\n"
      ]
     },
     "metadata": {},
     "output_type": "display_data"
    }
   ],
   "source": [
    "def unet(input_size=(128, 128, 128, 1)):\n",
    "    \"\"\"Defines the 3D U-Net model architecture from unet3_keras.py.\"\"\"\n",
    "    inputs = Input(input_size)\n",
    "    \n",
    "    # Encoder Path\n",
    "    conv1 = Conv3D(16, (3, 3, 3), activation='relu', padding='same')(inputs)\n",
    "    conv1 = Conv3D(16, (3, 3, 3), activation='relu', padding='same')(conv1)\n",
    "    pool1 = MaxPooling3D(pool_size=(2, 2, 2))(conv1)\n",
    "\n",
    "    conv2 = Conv3D(32, (3, 3, 3), activation='relu', padding='same')(pool1)\n",
    "    conv2 = Conv3D(32, (3, 3, 3), activation='relu', padding='same')(conv2)\n",
    "    pool2 = MaxPooling3D(pool_size=(2, 2, 2))(conv2)\n",
    "\n",
    "    conv3 = Conv3D(64, (3, 3, 3), activation='relu', padding='same')(pool2)\n",
    "    conv3 = Conv3D(64, (3, 3, 3), activation='relu', padding='same')(conv3)\n",
    "    pool3 = MaxPooling3D(pool_size=(2, 2, 2))(conv3)\n",
    "\n",
    "    # Bottleneck\n",
    "    conv4 = Conv3D(128, (3, 3, 3), activation='relu', padding='same')(pool3)\n",
    "    conv4 = Conv3D(128, (3, 3, 3), activation='relu', padding='same')(conv4)\n",
    "\n",
    "    # Decoder Path\n",
    "    up5 = concatenate([UpSampling3D(size=(2, 2, 2))(conv4), conv3], axis=-1)\n",
    "    conv5 = Conv3D(64, (3, 3, 3), activation='relu', padding='same')(up5)\n",
    "    conv5 = Conv3D(64, (3, 3, 3), activation='relu', padding='same')(conv5)\n",
    "\n",
    "    up6 = concatenate([UpSampling3D(size=(2, 2, 2))(conv5), conv2], axis=-1)\n",
    "    conv6 = Conv3D(32, (3, 3, 3), activation='relu', padding='same')(up6)\n",
    "    conv6 = Conv3D(32, (3, 3, 3), activation='relu', padding='same')(conv6)\n",
    "\n",
    "    up7 = concatenate([UpSampling3D(size=(2, 2, 2))(conv6), conv1], axis=-1)\n",
    "    conv7 = Conv3D(16, (3, 3, 3), activation='relu', padding='same')(up7)\n",
    "    conv7 = Conv3D(16, (3, 3, 3), activation='relu', padding='same')(conv7)\n",
    "\n",
    "    # Output Layer\n",
    "    conv8 = Conv3D(1, (1, 1, 1), activation='sigmoid')(conv7)\n",
    "\n",
    "    model = Model(inputs=[inputs], outputs=[conv8])\n",
    "    return model\n",
    "\n",
    "def _to_tensor(x, dtype):\n",
    "    \"\"\"Convert the input `x` to a tensor of type `dtype`.\"\"\"\n",
    "    return tf.convert_to_tensor(x, dtype=dtype)\n",
    "\n",
    "def cross_entropy_balanced(y_true, y_pred):\n",
    "    \"\"\"Custom balanced cross-entropy loss function from unet3_keras.py.\"\"\"\n",
    "    _epsilon = _to_tensor(K.epsilon(), y_pred.dtype.base_dtype)\n",
    "    y_pred = tf.clip_by_value(y_pred, _epsilon, 1 - _epsilon)\n",
    "    y_pred = tf.math.log(y_pred / (1 - y_pred))\n",
    "\n",
    "    y_true = tf.cast(y_true, tf.float32)\n",
    "    count_neg = tf.reduce_sum(1. - y_true)\n",
    "    count_pos = tf.reduce_sum(y_true)\n",
    "    beta = count_neg / (count_neg + count_pos)\n",
    "    pos_weight = beta / (1 - beta)\n",
    "\n",
    "    cost = tf.nn.weighted_cross_entropy_with_logits(logits=y_pred, labels=y_true, pos_weight=pos_weight)\n",
    "    cost = tf.reduce_mean(cost * (1 - beta))\n",
    "    \n",
    "    return tf.where(tf.equal(count_pos, 0.0), 0.0, cost)\n",
    "\n",
    "# Build and compile the model\n",
    "model = unet(input_size=(*params['dim'], params['n_channels']))\n",
    "model.compile(optimizer=Adam(learning_rate=learning_rate), \n",
    "              loss=cross_entropy_balanced,\n",
    "              metrics=['accuracy'])\n",
    "\n",
    "model.summary()"
   ]
  },
  {
   "cell_type": "markdown",
   "id": "368880bc",
   "metadata": {},
   "source": [
    "## Step 6: Define Callbacks"
   ]
  },
  {
   "cell_type": "code",
   "execution_count": 14,
   "id": "dee6c39b",
   "metadata": {},
   "outputs": [
    {
     "name": "stdout",
     "output_type": "stream",
     "text": [
      "Callbacks defined. Checkpoints will be saved in the new .keras format.\n",
      "Starting model training...\n"
     ]
    }
   ],
   "source": [
    "filepath = os.path.join(checkpoint_dir, \"fseg-{epoch:02d}.keras\") # <-- FIXED\n",
    "checkpoint = ModelCheckpoint(filepath, monitor='val_accuracy', verbose=1, save_best_only=False, mode='max')\n",
    "\n",
    "# TensorBoard callback for logging\n",
    "tensorboard_callback = TensorBoard(log_dir=log_dir, histogram_freq=1)\n",
    "\n",
    "# List of callbacks to pass to the model\n",
    "callbacks_list = [checkpoint, tensorboard_callback]\n",
    "\n",
    "print(\"Callbacks defined. Checkpoints will be saved in the new .keras format.\")\n",
    "print(\"Starting model training...\")"
   ]
  },
  {
   "cell_type": "markdown",
   "id": "90c3ef8a",
   "metadata": {},
   "source": [
    "## Step 7: Train the Model"
   ]
  },
  {
   "cell_type": "markdown",
   "id": "b633c17c",
   "metadata": {},
   "source": [
    "With everything set up, we can now start training the model using the `fit` method. The training and validation data will be provided through our generators."
   ]
  },
  {
   "cell_type": "code",
   "execution_count": 15,
   "id": "a87ca346",
   "metadata": {},
   "outputs": [
    {
     "name": "stdout",
     "output_type": "stream",
     "text": [
      "Epoch 1/10\n"
     ]
    },
    {
     "name": "stderr",
     "output_type": "stream",
     "text": [
      "WARNING: All log messages before absl::InitializeLog() is called are written to STDERR\n",
      "I0000 00:00:1753759282.419080  161140 service.cc:152] XLA service 0x75c044122b60 initialized for platform CUDA (this does not guarantee that XLA will be used). Devices:\n",
      "I0000 00:00:1753759282.419133  161140 service.cc:160]   StreamExecutor device (0): NVIDIA RTX A5000, Compute Capability 8.6\n",
      "2025-07-29 05:21:22.522846: I tensorflow/compiler/mlir/tensorflow/utils/dump_mlir_util.cc:269] disabling MLIR crash reproducer, set env var `MLIR_CRASH_REPRODUCER_DIRECTORY` to enable.\n",
      "I0000 00:00:1753759283.154835  161140 cuda_dnn.cc:529] Loaded cuDNN version 90800\n",
      "2025-07-29 05:21:24.148991: E external/local_xla/xla/stream_executor/cuda/cuda_timer.cc:86] Delay kernel timed out: measured time has sub-optimal accuracy. There may be a missing warmup execution, please investigate in Nsight Systems.\n",
      "2025-07-29 05:21:24.295020: E external/local_xla/xla/stream_executor/cuda/cuda_timer.cc:86] Delay kernel timed out: measured time has sub-optimal accuracy. There may be a missing warmup execution, please investigate in Nsight Systems.\n",
      "2025-07-29 05:21:24.442001: E external/local_xla/xla/stream_executor/cuda/cuda_timer.cc:86] Delay kernel timed out: measured time has sub-optimal accuracy. There may be a missing warmup execution, please investigate in Nsight Systems.\n",
      "2025-07-29 05:21:24.888220: E external/local_xla/xla/stream_executor/cuda/cuda_timer.cc:86] Delay kernel timed out: measured time has sub-optimal accuracy. There may be a missing warmup execution, please investigate in Nsight Systems.\n",
      "2025-07-29 05:21:25.037048: E external/local_xla/xla/stream_executor/cuda/cuda_timer.cc:86] Delay kernel timed out: measured time has sub-optimal accuracy. There may be a missing warmup execution, please investigate in Nsight Systems.\n",
      "2025-07-29 05:21:27.657023: E external/local_xla/xla/stream_executor/cuda/cuda_timer.cc:86] Delay kernel timed out: measured time has sub-optimal accuracy. There may be a missing warmup execution, please investigate in Nsight Systems.\n",
      "2025-07-29 05:21:27.842434: E external/local_xla/xla/stream_executor/cuda/cuda_timer.cc:86] Delay kernel timed out: measured time has sub-optimal accuracy. There may be a missing warmup execution, please investigate in Nsight Systems.\n",
      "I0000 00:00:1753759305.682100  161140 device_compiler.h:188] Compiled cluster using XLA!  This line is logged at most once for the lifetime of the process.\n"
     ]
    },
    {
     "name": "stdout",
     "output_type": "stream",
     "text": [
      "\u001b[1m200/200\u001b[0m \u001b[32m━━━━━━━━━━━━━━━━━━━━\u001b[0m\u001b[37m\u001b[0m \u001b[1m0s\u001b[0m 448ms/step - accuracy: 0.6441 - loss: 0.0866"
     ]
    },
    {
     "name": "stderr",
     "output_type": "stream",
     "text": [
      "2025-07-29 05:23:17.850669: E external/local_xla/xla/stream_executor/cuda/cuda_timer.cc:86] Delay kernel timed out: measured time has sub-optimal accuracy. There may be a missing warmup execution, please investigate in Nsight Systems.\n",
      "2025-07-29 05:23:17.999415: E external/local_xla/xla/stream_executor/cuda/cuda_timer.cc:86] Delay kernel timed out: measured time has sub-optimal accuracy. There may be a missing warmup execution, please investigate in Nsight Systems.\n",
      "2025-07-29 05:23:18.501899: E external/local_xla/xla/stream_executor/cuda/cuda_timer.cc:86] Delay kernel timed out: measured time has sub-optimal accuracy. There may be a missing warmup execution, please investigate in Nsight Systems.\n",
      "2025-07-29 05:23:18.650763: E external/local_xla/xla/stream_executor/cuda/cuda_timer.cc:86] Delay kernel timed out: measured time has sub-optimal accuracy. There may be a missing warmup execution, please investigate in Nsight Systems.\n",
      "2025-07-29 05:23:21.376561: E external/local_xla/xla/stream_executor/cuda/cuda_timer.cc:86] Delay kernel timed out: measured time has sub-optimal accuracy. There may be a missing warmup execution, please investigate in Nsight Systems.\n",
      "2025-07-29 05:23:21.569950: E external/local_xla/xla/stream_executor/cuda/cuda_timer.cc:86] Delay kernel timed out: measured time has sub-optimal accuracy. There may be a missing warmup execution, please investigate in Nsight Systems.\n",
      "2025-07-29 05:23:22.607139: E external/local_xla/xla/service/slow_operation_alarm.cc:73] Trying algorithm eng0{} for conv %cudnn-conv-bias-activation.57 = (f32[2,16,128,128,128]{4,3,2,1,0}, u8[0]{0}) custom-call(f32[2,48,128,128,128]{4,3,2,1,0} %bitcast.1103, f32[16,48,3,3,3]{4,3,2,1,0} %bitcast.1110, f32[16]{0} %bitcast.1112), window={size=3x3x3 pad=1_1x1_1x1_1}, dim_labels=bf012_oi012->bf012, custom_call_target=\"__cudnn$convBiasActivationForward\", metadata={op_type=\"Conv3D\" op_name=\"functional_1/conv3d_12_1/convolution\" source_file=\"/home/roderickperez/miniconda3/envs/faultseg/lib/python3.10/site-packages/tensorflow/python/framework/ops.py\" source_line=1200}, backend_config={\"operation_queue_id\":\"0\",\"wait_on_operation_queues\":[],\"cudnn_conv_backend_config\":{\"conv_result_scale\":1,\"activation_mode\":\"kRelu\",\"side_input_scale\":0,\"leakyrelu_alpha\":0},\"force_earliest_schedule\":false} is taking a while...\n",
      "2025-07-29 05:23:22.636339: E external/local_xla/xla/service/slow_operation_alarm.cc:140] The operation took 1.029313521s\n",
      "Trying algorithm eng0{} for conv %cudnn-conv-bias-activation.57 = (f32[2,16,128,128,128]{4,3,2,1,0}, u8[0]{0}) custom-call(f32[2,48,128,128,128]{4,3,2,1,0} %bitcast.1103, f32[16,48,3,3,3]{4,3,2,1,0} %bitcast.1110, f32[16]{0} %bitcast.1112), window={size=3x3x3 pad=1_1x1_1x1_1}, dim_labels=bf012_oi012->bf012, custom_call_target=\"__cudnn$convBiasActivationForward\", metadata={op_type=\"Conv3D\" op_name=\"functional_1/conv3d_12_1/convolution\" source_file=\"/home/roderickperez/miniconda3/envs/faultseg/lib/python3.10/site-packages/tensorflow/python/framework/ops.py\" source_line=1200}, backend_config={\"operation_queue_id\":\"0\",\"wait_on_operation_queues\":[],\"cudnn_conv_backend_config\":{\"conv_result_scale\":1,\"activation_mode\":\"kRelu\",\"side_input_scale\":0,\"leakyrelu_alpha\":0},\"force_earliest_schedule\":false} is taking a while...\n"
     ]
    },
    {
     "name": "stdout",
     "output_type": "stream",
     "text": [
      "\n",
      "Epoch 1: saving model to /home/roderickperez/DS_PROJECTS/faultSeg/faultSeg_Wu_2019_Keras/model/checkpoints/fseg-01.keras\n",
      "\u001b[1m200/200\u001b[0m \u001b[32m━━━━━━━━━━━━━━━━━━━━\u001b[0m\u001b[37m\u001b[0m \u001b[1m133s\u001b[0m 529ms/step - accuracy: 0.6443 - loss: 0.0866 - val_accuracy: 0.8355 - val_loss: 0.0671\n",
      "Epoch 2/10\n",
      "\u001b[1m200/200\u001b[0m \u001b[32m━━━━━━━━━━━━━━━━━━━━\u001b[0m\u001b[37m\u001b[0m \u001b[1m0s\u001b[0m 419ms/step - accuracy: 0.7809 - loss: 0.0616\n",
      "Epoch 2: saving model to /home/roderickperez/DS_PROJECTS/faultSeg/faultSeg_Wu_2019_Keras/model/checkpoints/fseg-02.keras\n",
      "\u001b[1m200/200\u001b[0m \u001b[32m━━━━━━━━━━━━━━━━━━━━\u001b[0m\u001b[37m\u001b[0m \u001b[1m95s\u001b[0m 472ms/step - accuracy: 0.7809 - loss: 0.0616 - val_accuracy: 0.8771 - val_loss: 0.0584\n",
      "Epoch 3/10\n",
      "\u001b[1m200/200\u001b[0m \u001b[32m━━━━━━━━━━━━━━━━━━━━\u001b[0m\u001b[37m\u001b[0m \u001b[1m0s\u001b[0m 417ms/step - accuracy: 0.8100 - loss: 0.0537\n",
      "Epoch 3: saving model to /home/roderickperez/DS_PROJECTS/faultSeg/faultSeg_Wu_2019_Keras/model/checkpoints/fseg-03.keras\n",
      "\u001b[1m200/200\u001b[0m \u001b[32m━━━━━━━━━━━━━━━━━━━━\u001b[0m\u001b[37m\u001b[0m \u001b[1m95s\u001b[0m 469ms/step - accuracy: 0.8100 - loss: 0.0537 - val_accuracy: 0.8013 - val_loss: 0.0492\n",
      "Epoch 4/10\n",
      "\u001b[1m200/200\u001b[0m \u001b[32m━━━━━━━━━━━━━━━━━━━━\u001b[0m\u001b[37m\u001b[0m \u001b[1m0s\u001b[0m 405ms/step - accuracy: 0.8343 - loss: 0.0469\n",
      "Epoch 4: saving model to /home/roderickperez/DS_PROJECTS/faultSeg/faultSeg_Wu_2019_Keras/model/checkpoints/fseg-04.keras\n",
      "\u001b[1m200/200\u001b[0m \u001b[32m━━━━━━━━━━━━━━━━━━━━\u001b[0m\u001b[37m\u001b[0m \u001b[1m91s\u001b[0m 452ms/step - accuracy: 0.8343 - loss: 0.0470 - val_accuracy: 0.8797 - val_loss: 0.0445\n",
      "Epoch 5/10\n",
      "\u001b[1m200/200\u001b[0m \u001b[32m━━━━━━━━━━━━━━━━━━━━\u001b[0m\u001b[37m\u001b[0m \u001b[1m0s\u001b[0m 456ms/step - accuracy: 0.8517 - loss: 0.0448\n",
      "Epoch 5: saving model to /home/roderickperez/DS_PROJECTS/faultSeg/faultSeg_Wu_2019_Keras/model/checkpoints/fseg-05.keras\n",
      "\u001b[1m200/200\u001b[0m \u001b[32m━━━━━━━━━━━━━━━━━━━━\u001b[0m\u001b[37m\u001b[0m \u001b[1m101s\u001b[0m 505ms/step - accuracy: 0.8517 - loss: 0.0448 - val_accuracy: 0.8999 - val_loss: 0.0404\n",
      "Epoch 6/10\n",
      "\u001b[1m200/200\u001b[0m \u001b[32m━━━━━━━━━━━━━━━━━━━━\u001b[0m\u001b[37m\u001b[0m \u001b[1m0s\u001b[0m 415ms/step - accuracy: 0.8686 - loss: 0.0398\n",
      "Epoch 6: saving model to /home/roderickperez/DS_PROJECTS/faultSeg/faultSeg_Wu_2019_Keras/model/checkpoints/fseg-06.keras\n",
      "\u001b[1m200/200\u001b[0m \u001b[32m━━━━━━━━━━━━━━━━━━━━\u001b[0m\u001b[37m\u001b[0m \u001b[1m93s\u001b[0m 464ms/step - accuracy: 0.8686 - loss: 0.0397 - val_accuracy: 0.9024 - val_loss: 0.0364\n",
      "Epoch 7/10\n",
      "\u001b[1m200/200\u001b[0m \u001b[32m━━━━━━━━━━━━━━━━━━━━\u001b[0m\u001b[37m\u001b[0m \u001b[1m0s\u001b[0m 447ms/step - accuracy: 0.8828 - loss: 0.0369\n",
      "Epoch 7: saving model to /home/roderickperez/DS_PROJECTS/faultSeg/faultSeg_Wu_2019_Keras/model/checkpoints/fseg-07.keras\n",
      "\u001b[1m200/200\u001b[0m \u001b[32m━━━━━━━━━━━━━━━━━━━━\u001b[0m\u001b[37m\u001b[0m \u001b[1m100s\u001b[0m 498ms/step - accuracy: 0.8828 - loss: 0.0369 - val_accuracy: 0.9144 - val_loss: 0.0372\n",
      "Epoch 8/10\n",
      "\u001b[1m200/200\u001b[0m \u001b[32m━━━━━━━━━━━━━━━━━━━━\u001b[0m\u001b[37m\u001b[0m \u001b[1m0s\u001b[0m 418ms/step - accuracy: 0.8945 - loss: 0.0336\n",
      "Epoch 8: saving model to /home/roderickperez/DS_PROJECTS/faultSeg/faultSeg_Wu_2019_Keras/model/checkpoints/fseg-08.keras\n",
      "\u001b[1m200/200\u001b[0m \u001b[32m━━━━━━━━━━━━━━━━━━━━\u001b[0m\u001b[37m\u001b[0m \u001b[1m94s\u001b[0m 470ms/step - accuracy: 0.8945 - loss: 0.0336 - val_accuracy: 0.9098 - val_loss: 0.0322\n",
      "Epoch 9/10\n",
      "\u001b[1m200/200\u001b[0m \u001b[32m━━━━━━━━━━━━━━━━━━━━\u001b[0m\u001b[37m\u001b[0m \u001b[1m0s\u001b[0m 427ms/step - accuracy: 0.9003 - loss: 0.0322\n",
      "Epoch 9: saving model to /home/roderickperez/DS_PROJECTS/faultSeg/faultSeg_Wu_2019_Keras/model/checkpoints/fseg-09.keras\n",
      "\u001b[1m200/200\u001b[0m \u001b[32m━━━━━━━━━━━━━━━━━━━━\u001b[0m\u001b[37m\u001b[0m \u001b[1m94s\u001b[0m 470ms/step - accuracy: 0.9003 - loss: 0.0322 - val_accuracy: 0.8965 - val_loss: 0.0312\n",
      "Epoch 10/10\n",
      "\u001b[1m200/200\u001b[0m \u001b[32m━━━━━━━━━━━━━━━━━━━━\u001b[0m\u001b[37m\u001b[0m \u001b[1m0s\u001b[0m 399ms/step - accuracy: 0.9069 - loss: 0.0300\n",
      "Epoch 10: saving model to /home/roderickperez/DS_PROJECTS/faultSeg/faultSeg_Wu_2019_Keras/model/checkpoints/fseg-10.keras\n",
      "\u001b[1m200/200\u001b[0m \u001b[32m━━━━━━━━━━━━━━━━━━━━\u001b[0m\u001b[37m\u001b[0m \u001b[1m90s\u001b[0m 450ms/step - accuracy: 0.9069 - loss: 0.0300 - val_accuracy: 0.9047 - val_loss: 0.0286\n",
      "\n",
      "Model training has been completed.\n"
     ]
    }
   ],
   "source": [
    "history = model.fit(train_generator,\n",
    "                    validation_data=valid_generator,\n",
    "                    epochs=epochs,\n",
    "                    callbacks=callbacks_list,\n",
    "                    verbose=1)\n",
    "\n",
    "print(\"\\nModel training has been completed.\")"
   ]
  },
  {
   "cell_type": "markdown",
   "id": "6de57e5d",
   "metadata": {},
   "source": [
    "## Step 8: Save the Final Model"
   ]
  },
  {
   "cell_type": "markdown",
   "id": "25d6cf12",
   "metadata": {},
   "source": [
    "After training is complete, we save the final model to the `model` directory for future use."
   ]
  },
  {
   "cell_type": "code",
   "execution_count": 16,
   "id": "3d4b82b3",
   "metadata": {},
   "outputs": [
    {
     "name": "stdout",
     "output_type": "stream",
     "text": [
      "The final model has been saved to: /home/roderickperez/DS_PROJECTS/faultSeg/faultSeg_Wu_2019_Keras/model/unet_keras_model_200pairs_10epochs_2025-07-29_05-37-45.keras\n"
     ]
    }
   ],
   "source": [
    "# Create a unique name for the final model using the .hdf5 extension\n",
    "now = datetime.now()\n",
    "date_time = now.strftime(\"%Y-%m-%d_%H-%M-%S\")\n",
    "num_pairs = len(train_ID)\n",
    "model_name = f\"unet_keras_model_{num_pairs}pairs_{epochs}epochs_{date_time}.keras\" # <-- FIXED\n",
    "model_path = os.path.join(model_dir, model_name)\n",
    "\n",
    "# Save the model\n",
    "model.save(model_path)\n",
    "\n",
    "print(f\"The final model has been saved to: {model_path}\")"
   ]
  },
  {
   "cell_type": "markdown",
   "id": "249d59e8",
   "metadata": {},
   "source": [
    "## Step 9: Visualize Training History"
   ]
  },
  {
   "cell_type": "markdown",
   "id": "900aee99",
   "metadata": {},
   "source": [
    "Finally, we visualize the training and validation accuracy and loss over the epochs. This helps us understand how well the model has learned."
   ]
  },
  {
   "cell_type": "code",
   "execution_count": 17,
   "id": "abdc4908",
   "metadata": {},
   "outputs": [
    {
     "name": "stdout",
     "output_type": "stream",
     "text": [
      "Plotting training history...\n",
      "History plot saved to: /home/roderickperez/DS_PROJECTS/faultSeg/faultSeg_Wu_2019_Keras/model/unet_keras_model_200pairs_10epochs_2025-07-29_05-37-45_history.png\n"
     ]
    },
    {
     "data": {
      "image/png": "[encoded data removed]",
      "text/plain": [
       "<Figure size 1800x700 with 2 Axes>"
      ]
     },
     "metadata": {},
     "output_type": "display_data"
    }
   ],
   "source": [
    "def show_history(history, save_path=None):\n",
    "    \"\"\"\n",
    "    Plots the training and validation accuracy and loss from a Keras history object.\n",
    "    \"\"\"\n",
    "    print(\"Plotting training history...\")\n",
    "    \n",
    "    # Create a figure with two subplots\n",
    "    fig, (ax1, ax2) = plt.subplots(1, 2, figsize=(18, 7))\n",
    "\n",
    "    # --- Plot Accuracy ---\n",
    "    ax1.plot(history.history['accuracy'], label='Training Accuracy', color='b', marker='o', linestyle='-')\n",
    "    ax1.plot(history.history['val_accuracy'], label='Validation Accuracy', color='r', marker='o', linestyle='--')\n",
    "    ax1.set_title('Model Accuracy', fontsize=18)\n",
    "    ax1.set_ylabel('Accuracy', fontsize=14)\n",
    "    ax1.set_xlabel('Epoch', fontsize=14)\n",
    "    ax1.legend(loc='lower right', fontsize=12)\n",
    "    ax1.grid(True)\n",
    "\n",
    "    # --- Plot Loss ---\n",
    "    ax2.plot(history.history['loss'], label='Training Loss', color='b', marker='o', linestyle='-')\n",
    "    ax2.plot(history.history['val_loss'], label='Validation Loss', color='r', marker='o', linestyle='--')\n",
    "    ax2.set_title('Model Loss', fontsize=18)\n",
    "    ax2.set_ylabel('Loss', fontsize=14)\n",
    "    ax2.set_xlabel('Epoch', fontsize=14)\n",
    "    ax2.legend(loc='upper right', fontsize=12)\n",
    "    ax2.grid(True)\n",
    "    \n",
    "    plt.tight_layout()\n",
    "    \n",
    "    if save_path:\n",
    "        plt.savefig(save_path)\n",
    "        print(f\"History plot saved to: {save_path}\")\n",
    "        \n",
    "    plt.show()\n",
    "\n",
    "# Use os.path.splitext to robustly get the model name without its extension\n",
    "base_name, _ = os.path.splitext(model_name) \n",
    "\n",
    "# Create the new plot name\n",
    "plot_name = f\"{base_name}_history.png\"\n",
    "plot_path = os.path.join(model_dir, plot_name)\n",
    "\n",
    "# Call the function\n",
    "show_history(history, save_path=plot_path)"
   ]
  },
  {
   "cell_type": "code",
   "execution_count": null,
   "id": "8af53163",
   "metadata": {},
   "outputs": [],
   "source": []
  }
 ],
 "metadata": {
  "kernelspec": {
   "display_name": "faultseg",
   "language": "python",
   "name": "python3"
  },
  "language_info": {
   "codemirror_mode": {
    "name": "ipython",
    "version": 3
   },
   "file_extension": ".py",
   "mimetype": "text/x-python",
   "name": "python",
   "nbconvert_exporter": "python",
   "pygments_lexer": "ipython3",
   "version": "3.10.16"
  }
 },
 "nbformat": 4,
 "nbformat_minor": 5
}
