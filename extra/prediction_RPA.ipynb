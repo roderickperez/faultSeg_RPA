version https://git-lfs.github.com/spec/v1
oid sha256:ed1f9607c3143de479003817e5cb0ce09b129bba97143de8b10619de659accff
size 244
