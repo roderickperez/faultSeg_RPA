version https://git-lfs.github.com/spec/v1
oid sha256:da183d504aaae4e59d559115379c56710538d1a72660a729d859b1dd063fef54
size 7802
