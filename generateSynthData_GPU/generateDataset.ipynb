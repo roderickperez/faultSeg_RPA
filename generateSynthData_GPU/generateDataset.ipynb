version https://git-lfs.github.com/spec/v1
oid sha256:d9d44ea6a2790b50cd8a1c63804399d0b4ef2b833a8dfd272cfb387ac509eff1
size 410458705
