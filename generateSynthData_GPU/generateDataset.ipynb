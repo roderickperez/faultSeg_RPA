version https://git-lfs.github.com/spec/v1
oid sha256:f4b96aeb91636f9fce7d6814ac9bf39e58342e111ebdad4b301baf0dea7d328a
size 764789
